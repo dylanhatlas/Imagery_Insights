{
 "cells": [
  {
   "cell_type": "code",
   "execution_count": 36,
   "metadata": {
    "collapsed": true,
    "deletable": true,
    "editable": true
   },
   "outputs": [],
   "source": [
    "from IPython.display import Image, display\n",
    "import ipywidgets"
   ]
  },
  {
   "cell_type": "code",
   "execution_count": 37,
   "metadata": {
    "collapsed": true,
    "deletable": true,
    "editable": true
   },
   "outputs": [],
   "source": [
    "import ee\n",
    "ee.Initialize()"
   ]
  },
  {
   "cell_type": "code",
   "execution_count": 528,
   "metadata": {
    "collapsed": true,
    "deletable": true,
    "editable": true
   },
   "outputs": [],
   "source": [
    "training = ee.FeatureCollection('ft:1v0w7ShdYBMVo0jJw7rRCf2-DRor6WAjsYu1v55hH')\n",
    "#Remove unlabelled features\n",
    "#training=training.filter(ee.Filter.greaterThanOrEquals('Riparian',0))"
   ]
  },
  {
   "cell_type": "code",
   "execution_count": 529,
   "metadata": {
    "collapsed": false,
    "deletable": true,
    "editable": true
   },
   "outputs": [
    {
     "data": {
      "text/plain": [
       "<IPython.core.display.Javascript object>"
      ]
     },
     "metadata": {},
     "output_type": "display_data"
    }
   ],
   "source": [
    "%%javascript\n",
    "require.undef('geemap-widget');\n",
    "\n",
    "define('geemap-widget', [\"jupyter-js-widgets\",'jquery', 'underscore'], function(widgets, $, _) {\n",
    "    /**\n",
    "     * A simple model to represent a layer on the map.\n",
    "     *\n",
    "     * @constructor\n",
    "     */\n",
    "    var Layer = Backbone.Model.extend({\n",
    "        defaults: function() {\n",
    "            return {\n",
    "                config: {},\n",
    "                type: undefined,\n",
    "                visible: true\n",
    "            };\n",
    "        }\n",
    "    });\n",
    "\n",
    "\n",
    "\n",
    "    /**\n",
    "     * A collection of layers.\n",
    "     *\n",
    "     * @constructor\n",
    "     */\n",
    "    var LayerCollection = Backbone.Collection.extend({\n",
    "        model: Layer\n",
    "    });\n",
    "\n",
    "\n",
    "\n",
    "    /**\n",
    "     * Override of the main widget model to intercept messages from Python\n",
    "     * update Javascript state correctly.\n",
    "     *\n",
    "     * @constructor\n",
    "     */\n",
    "    var GoogleMapsModel = widgets.WidgetModel.extend({\n",
    "        \n",
    "        defaults: _.extend({}, widgets.DOMWidgetModel.prototype.defaults, {\n",
    "            _model_name : 'GoogleMapsModel',\n",
    "            _view_name : 'GoogleMapsView',\n",
    "            _model_module : 'geemap-widget',\n",
    "            _view_module : 'geemap-widget'\n",
    "        }),\n",
    "        \n",
    "        /** @override */\n",
    "        initialize: function() {\n",
    "            this.listenTo(\n",
    "                this, 'msg:custom', _.bind(this.handleMessage, this));\n",
    "            // this.set('layers', new LayerCollection());\n",
    "        },\n",
    "\n",
    "        /**\n",
    "         * Handle a message from Python.\n",
    "         *\n",
    "         * @param {!Object} payload Payload of the message.\n",
    "         */\n",
    "        handleMessage: function(payload) {\n",
    "            if (!this.get('layers')) {\n",
    "                this.set('layers', new LayerCollection());\n",
    "            }\n",
    "            switch(payload.action) {\n",
    "                case 'addLayer':\n",
    "                    this.get('layers').add({\n",
    "                        config: payload.config,\n",
    "                        type: payload.type\n",
    "                    });\n",
    "                    break;\n",
    "                case 'removeLayer':\n",
    "                    console.error('removeLayer not implemented');\n",
    "                    break;\n",
    "            }\n",
    "        }\n",
    "    });\n",
    "\n",
    "    /**\n",
    "     * A Google Maps API widget.\n",
    "     *\n",
    "     * @constructor\n",
    "     */\n",
    "    var GoogleMapsView = widgets.DOMWidgetView.extend({\n",
    "        /**\n",
    "         * Load the Maps API JS if needed, also prepare a deferred in case any\n",
    "         * map methods are called before the map is ready.\n",
    "         */\n",
    "        initialize: function() {\n",
    "            // Deferred to track for when the map is ready.\n",
    "            this.mapsReadyDeferred = $.Deferred();\n",
    "\n",
    "            // Dynamically adding Google Maps API JS here. Using a deferred to\n",
    "            // track its load status as require returns as soon as the first\n",
    "            // script loads and the Maps API triggers more scripts to append\n",
    "            // which leaves a race condition where require thinks Maps API JS\n",
    "            // is ready when it is not yet.\n",
    "            var mapsDeferred = this.mapsDeferred = $.Deferred();\n",
    "            // Another instance of this view may have already loaded the Maps\n",
    "            // API JS, do not try to load it twice.\n",
    "            if (window.google && window.google.maps) {\n",
    "                mapsDeferred.resolve();\n",
    "            } else {\n",
    "                window.googleMapsCallback = function() {\n",
    "                    mapsDeferred.resolve();\n",
    "                };\n",
    "                require(\n",
    "                    ['http://maps.googleapis.com/maps/api/js?callback=googleMapsCallback'],\n",
    "                    function() {},\n",
    "                    function() {});\n",
    "            }\n",
    "        },\n",
    "\n",
    "        /**\n",
    "         * Render the map.\n",
    "         */\n",
    "        render: function() {\n",
    "            // We must wait until the Maps API JS is ready.\n",
    "            $.when(this.mapsDeferred.promise()).then(_.bind(function() {\n",
    "                // Empty the views DOM. There seem to be some weird side\n",
    "                // effects when you render more than one instance of this view\n",
    "                // in the notebook. Cleaning the view DOM and deferring the map\n",
    "                // initialization seems to work around this. It seesm almost if\n",
    "                // map instances are sharing some DOM somehow.\n",
    "                this.$el.empty();\n",
    "                _.defer(_.bind(function() {\n",
    "                    this.$map = $([\n",
    "                        '<div style=\"height: ',\n",
    "                        this.model.get('height'),\n",
    "                        '; width: ',\n",
    "                        this.model.get('width'),\n",
    "                        ';\"></div>'\n",
    "                    ].join(''));\n",
    "                    this.$el.append(this.$map);\n",
    "                    this.map = new google.maps.Map(this.$map.get(0), {\n",
    "                        center: {\n",
    "                            lat: this.model.get('lat'),\n",
    "                            lng: this.model.get('lng')\n",
    "                        },\n",
    "                        zoom: this.model.get('zoom')\n",
    "                    });\n",
    "                    \n",
    "                    this.initializeLayersControl();\n",
    "\n",
    "                    // Notify the map when the map container changes size via\n",
    "                    // the exposed properties in the model.\n",
    "                    this.listenTo(\n",
    "                        this.model, 'change:height', _.bind(function() {\n",
    "                            this.$map.height(this.model.get('height'));\n",
    "                            google.maps.event.trigger(this.map, 'resize');\n",
    "                        }, this));\n",
    "                    this.listenTo(\n",
    "                        this.model, 'change:width', _.bind(function() {\n",
    "                            this.$map.width(this.model.get('width'));\n",
    "                            google.maps.event.trigger(this.map, 'resize');\n",
    "                        }, this));\n",
    "\n",
    "                    // Bind a change in the position of the map to the model.\n",
    "                    google.maps.event.addListener(\n",
    "                        this.map,\n",
    "                        'bounds_changed',\n",
    "                        _.bind(this.syncFromMap, this));\n",
    "\n",
    "                    // Bind a change in the model (coming from the Python side)\n",
    "                    // to the location of the map.\n",
    "                    this.listenTo(\n",
    "                        this.model,\n",
    "                        'change:lat',\n",
    "                        _.bind(this.syncFromModel, this));\n",
    "                    this.listenTo(\n",
    "                        this.model,\n",
    "                        'change:lng',\n",
    "                        _.bind(this.syncFromModel, this));\n",
    "                    this.listenTo(\n",
    "                        this.model,\n",
    "                        'change:zoom',\n",
    "                        _.bind(this.syncFromModel, this));\n",
    "\n",
    "                    // Render the initial set of layers.\n",
    "                    if (!this.model.get('layers')) {\n",
    "                        this.model.set('layers', new LayerCollection());\n",
    "                    }\n",
    "                    this.model.get('layers').each(this.buildLayer, this);\n",
    "\n",
    "                    // Bind to changes in the layers of the model to stay in\n",
    "                    // sync.\n",
    "                    this.listenTo(\n",
    "                        this.model.get('layers'),\n",
    "                        'add',\n",
    "                        _.bind(this.buildLayer, this));\n",
    "                    this.listenTo(\n",
    "                        this.model.get('layers'),\n",
    "                        'remove',\n",
    "                        function() {\n",
    "                            console.error('removeLayer not implemented');\n",
    "                        });\n",
    "\n",
    "                    // Even though a google.maps.Map instance should be ready\n",
    "                    // immediately, it is not. This delay lets the stack clear\n",
    "                    // and initial map bounds to be set.\n",
    "                    _.delay(_.bind(function() {\n",
    "                        this.mapsReadyDeferred.resolve();\n",
    "                    }, this), 500);\n",
    "                }, this));\n",
    "            }, this));\n",
    "        },\n",
    "\n",
    "        //Based Tyler's earlier implementation\n",
    "        LayersControl: function(widget, controlDiv, map) {\n",
    "            // Set CSS styles for the DIV containing the control\n",
    "            // Setting padding to 5 px will offset the control\n",
    "            // from the edge of the map.\n",
    "            controlDiv.style.padding = '5px';\n",
    "\n",
    "            // Set CSS for the control border.\n",
    "            this.$controlUI = $('<div />')\n",
    "                .css('backgroundColor', 'white')\n",
    "                .css('borderStyle', 'solid')\n",
    "                .css('borderWidth', '1px')\n",
    "                .css('cursor', 'pointer')\n",
    "                .css('textAlign', 'center')\n",
    "                .css('visibility', 'hidden')\n",
    "                .appendTo($(controlDiv));\n",
    "            \n",
    "            // Set CSS for the control interior.\n",
    "            var $controlContents = $('<div />')\n",
    "                .css('fontFamily', 'Arial,sans-serif')\n",
    "                .css('fontSize', '12px')\n",
    "                .css('paddingLeft', '4px')\n",
    "                .css('paddingRight', '4px')\n",
    "                .css('paddingTop', '0px')\n",
    "                .css('paddingBottom', '0px')\n",
    "                .appendTo(this.$controlUI);\n",
    "            \n",
    "            this.$controlTable = $('<table />')\n",
    "                .append($('<tr><td colspan=2>Layers</td></tr>'))\n",
    "                .appendTo($controlContents);\n",
    "        },\n",
    "        \n",
    "        initializeLayersControl: function() {\n",
    "            // Create the DIV to hold the control and call the LayersControl() constructor\n",
    "            // passing in this DIV.\n",
    "    \n",
    "            var layersControlDiv = document.createElement('div');\n",
    "            \n",
    "            this.layersControl = new this.LayersControl(this, layersControlDiv, this.map);\n",
    "            \n",
    "            layersControlDiv.index = 1;\n",
    "            this.map.controls[google.maps.ControlPosition.TOP_RIGHT].push(layersControlDiv);\n",
    "        },\n",
    "        \n",
    "        /**\n",
    "         * Sync the values from the map into the model.\n",
    "         */\n",
    "        syncFromMap: function() {\n",
    "            this.model.set({\n",
    "                lat: this.map.getCenter().lat(),\n",
    "                lng: this.map.getCenter().lng(),\n",
    "                zoom: this.map.getZoom()\n",
    "            });\n",
    "            // This is needed for the model to update the equivalent properties\n",
    "            // on the Python instance of this view.\n",
    "            this.model.save_changes();\n",
    "        },\n",
    "\n",
    "        /**\n",
    "         * Move the map to match the values from the model.\n",
    "         */\n",
    "        syncFromModel: function() {\n",
    "            this.map.setCenter(new google.maps.LatLng(\n",
    "                this.model.get('lat'),\n",
    "                this.model.get('lng')\n",
    "            ));\n",
    "            this.map.setZoom(this.model.get('zoom'));\n",
    "        },\n",
    "\n",
    "        /**\n",
    "         * Add a layer to the map based on its model.\n",
    "         *\n",
    "         * @param {!Layer} layer The layer to add.\n",
    "         */\n",
    "        buildLayer: function(layer) {\n",
    "            switch(layer.get('type')) {\n",
    "                case 'geojsondata':\n",
    "                    this.addGeoJsonLayer(layer.get('config').data);\n",
    "                    break;\n",
    "                case 'geojsonurl':\n",
    "                    this.loadGeoJsonLayer(layer.get('config').url);\n",
    "                    break;\n",
    "                case 'kmlurl':\n",
    "                    this.loadKmlLayer(layer.get('config').url);\n",
    "                    break;\n",
    "                case 'earthengine':\n",
    "                    this.addEarthEngineLayer(\n",
    "                        layer.get('config').mapid, layer.get('config').token, layer.get('config').name, layer.get('config').visible);\n",
    "                    break;\n",
    "            }\n",
    "        },\n",
    "\n",
    "        /**\n",
    "         * Adds GeoJSON to the map.\n",
    "         *\n",
    "         * @param {!Object} data A GeoJSON object.\n",
    "         */\n",
    "        addGeoJsonLayer: function(data) {\n",
    "            // Defer until map is ready.\n",
    "            this.mapsReadyDeferred.done(_.bind(function() {\n",
    "                this.map.data.addGeoJson(data);\n",
    "            }, this));\n",
    "        },\n",
    "\n",
    "        /**\n",
    "         * Adds a URL location of GeoJSON to the map.\n",
    "         *\n",
    "         * @param {string} url The URL of the GeoJSON file to load.\n",
    "         */\n",
    "        loadGeoJsonLayer: function(url) {\n",
    "            // Defer until map is ready.\n",
    "            this.mapsReadyDeferred.done(_.bind(function() {\n",
    "                this.map.data.loadGeoJson(url);\n",
    "            }, this));\n",
    "        },\n",
    "\n",
    "        /**\n",
    "         * Add a KML layer to the map.\n",
    "         *\n",
    "         * @param {string} url The URL of the KML file to load.\n",
    "         */\n",
    "        loadKmlLayer: function(url) {\n",
    "            // Defer until map is ready.\n",
    "            this.mapsReadyDeferred.done(_.bind(function() {\n",
    "                new google.maps.KmlLayer({\n",
    "                    url: url,\n",
    "                    map: this.map\n",
    "                });\n",
    "            }, this));\n",
    "        },\n",
    "\n",
    "        /**\n",
    "         * Add an Earth Engine layer to the map.\n",
    "         *\n",
    "         * @param {string} mapid The id of the Earth Engine layer.\n",
    "         * @param {string} token The OAuth token to authenticate with.\n",
    "         */\n",
    "        addEarthEngineLayer: function(mapid, token, name, visible) {\n",
    "            // Defer until map is ready.\n",
    "            this.mapsReadyDeferred.done(_.bind(function() {\n",
    "                var eeMapOptions = {\n",
    "                    getTileUrl: function(tile, zoom) {\n",
    "                        var url = [\n",
    "                            'https://earthengine.googleapis.com/map',\n",
    "                            mapid,\n",
    "                            zoom,\n",
    "                            tile.x,\n",
    "                            tile.y\n",
    "                        ].join('/');\n",
    "                        url += '?token=' + token;\n",
    "                        return url;\n",
    "                    },\n",
    "                    tileSize: new window.google.maps.Size(256, 256),\n",
    "                    opacity: 1.0,\n",
    "                };\n",
    "\n",
    "                // Create the overlay map type.\n",
    "                var mapType = new window.google.maps.ImageMapType(eeMapOptions);\n",
    "\n",
    "                // Overlay the Earth Engine generated layer.\n",
    "                this.map.overlayMapTypes.push(mapType);\n",
    "                \n",
    "                \n",
    "                // Update layer visibility control\n",
    "                var maxSlider = 100;\n",
    "\n",
    "                function updateOpacity() {\n",
    "                    mapType.setOpacity($checkbox[0].checked ? $slider[0].value / 100.0 : 0);\n",
    "                }\n",
    "\n",
    "                var $checkbox = $('<input type=\"checkbox\">')\n",
    "                    .prop('checked', visible)\n",
    "                    .change(updateOpacity);\n",
    "\n",
    "                var $slider = $('<input type=\"range\" />')\n",
    "                    .prop('min', 0)\n",
    "                    .prop('max', maxSlider)\n",
    "                    .prop('value', maxSlider)\n",
    "                    .css('width', '60px')\n",
    "                    .on('input', updateOpacity);\n",
    "\n",
    "                // If user doesn't specify a layer name, create a default\n",
    "                if (name === null) {\n",
    "                    name = 'Layer ' + this.map.overlayMapTypes.length;\n",
    "                }\n",
    "\n",
    "                var $row = $('<tr />');\n",
    "                $('<td align=\"left\" />').append($checkbox).append(name).appendTo($row);\n",
    "                $('<td />').append($slider).appendTo($row);\n",
    "                \n",
    "                this.layersControl.$controlUI.css('visibility', 'visible');\n",
    "                this.layersControl.$controlTable.append($row);\n",
    "            }, this));\n",
    "        }\n",
    "    });\n",
    "\n",
    "    return {\n",
    "        GoogleMapsModel: GoogleMapsModel,\n",
    "        GoogleMapsView: GoogleMapsView\n",
    "    }\n",
    "});"
   ]
  },
  {
   "cell_type": "code",
   "execution_count": 530,
   "metadata": {
    "collapsed": true,
    "deletable": true,
    "editable": true
   },
   "outputs": [],
   "source": [
    "from ipywidgets import widgets\n",
    "import traitlets\n",
    "\n",
    "class GoogleMapsView(widgets.DOMWidget):\n",
    "    \"\"\"Google Maps API widget.\"\"\"\n",
    "    _model_name = traitlets.Unicode('GoogleMapsModel').tag(sync=True)\n",
    "    _view_name = traitlets.Unicode('GoogleMapsView').tag(sync=True)\n",
    "    _view_module = traitlets.Unicode('geemap-widget').tag(sync=True)\n",
    "    _model_module = traitlets.Unicode('geemap-widget').tag(sync=True)\n",
    "    lat = traitlets.CFloat(0).tag(sync=True)\n",
    "    lng = traitlets.CFloat(0).tag(sync=True)\n",
    "    zoom = traitlets.CInt(2).tag(sync=True)\n",
    "    height = traitlets.CUnicode('300px').tag(sync=True)\n",
    "    width = traitlets.CUnicode('400px').tag(sync=True)\n",
    "    layers = traitlets.List([]).tag(sync=False)\n",
    "\n",
    "    def addGeoJsonLayer(self, data):\n",
    "        \"\"\"Adds a dictionary of GeoJSON to the map.\n",
    "\n",
    "        NOTE: It is likely if you are using a third party GeoJSON library you\n",
    "        will have to first serialize the data into a simple dictionary before\n",
    "        passing the data to this method.\n",
    "\n",
    "        Args:\n",
    "            data: A simple python dictionary of GeoJSON data.\n",
    "        \"\"\"\n",
    "        self.send({\n",
    "            'action': 'addLayer',\n",
    "            'type': 'geojsondata',\n",
    "            'config': {'data': data}\n",
    "        })\n",
    "\n",
    "    def loadGeoJsonLayer(self, url):\n",
    "        \"\"\"Adds a URL location of GeoJSON to the map.\n",
    "\n",
    "        Args:\n",
    "            url: The URL of the GeoJSON file.\n",
    "        \"\"\"\n",
    "        self.send({\n",
    "            'action': 'addLayer',\n",
    "            'type': 'geojsonurl',\n",
    "            'config': {'url': url}\n",
    "        })\n",
    "\n",
    "    def loadKmlLayer(self, url):\n",
    "        \"\"\"Adds a KML layer to the map.\n",
    "\n",
    "        Args:\n",
    "            url: The URL of the KML file.\n",
    "        \"\"\"\n",
    "        self.send({\n",
    "            'action': 'addLayer',\n",
    "            'type': 'kmlurl',\n",
    "            'config': {'url': url}\n",
    "        })\n",
    "\n",
    "    def addEarthEngineLayer(self, image, vis_params, name=None, visible=True):\n",
    "        \"\"\"Adds an Earth Engine layer to the map.\n",
    "\n",
    "        Args:\n",
    "            image: The ee.Image to display.\n",
    "            vis_params: Dictionary of visualization parameters.\n",
    "        \"\"\"\n",
    "        mapid = image.getMapId(vis_params)\n",
    "        self.send({\n",
    "            'action': 'addLayer',\n",
    "            'type': 'earthengine',\n",
    "            'config': {\n",
    "                'mapid': mapid['mapid'],\n",
    "                'token': mapid['token'],\n",
    "                'name': name,\n",
    "                'visible': visible\n",
    "            }\n",
    "        })"
   ]
  },
  {
   "cell_type": "code",
   "execution_count": 531,
   "metadata": {
    "collapsed": false,
    "deletable": true,
    "editable": true
   },
   "outputs": [],
   "source": [
    "map1 = GoogleMapsView(lng=-119.2, lat=36.3, zoom=4, height='240px', width='800px')\n",
    "#display(map1)"
   ]
  },
  {
   "cell_type": "code",
   "execution_count": 532,
   "metadata": {
    "collapsed": false,
    "deletable": true,
    "editable": true
   },
   "outputs": [],
   "source": [
    "training_points = ee.Image(training.draw(color ='006600', strokeWidth= 3))"
   ]
  },
  {
   "cell_type": "code",
   "execution_count": 533,
   "metadata": {
    "collapsed": false,
    "deletable": true,
    "editable": true
   },
   "outputs": [],
   "source": [
    "map1.addEarthEngineLayer(image=training_points, vis_params={})\n",
    "display(map1)"
   ]
  },
  {
   "cell_type": "code",
   "execution_count": 534,
   "metadata": {
    "collapsed": false,
    "deletable": true,
    "editable": true
   },
   "outputs": [],
   "source": [
    "RFseed = 1\n",
    "RFsubsample = (training.randomColumn(\"random\", RFseed).filter(ee.Filter.lt(\"random\", 0.8)))\n",
    "\n",
    "RFvalidation = (training.randomColumn(\"random\", RFseed).filter(ee.Filter.gte(\"random\", 0.8)))"
   ]
  },
  {
   "cell_type": "code",
   "execution_count": 535,
   "metadata": {
    "collapsed": false
   },
   "outputs": [],
   "source": [
    "counties = ee.FeatureCollection('ft:1sI2nrsM0zy1nbwTIiUCAG90eSr_a3jUsbbb-K5pI', 'geometry');\n",
    "UT = counties.filter(ee.Filter.inList('STATE', [490]))\n",
    "COWY = counties.filter(ee.Filter.inList('STATE', [80, 560]))\n",
    "GRB = ee.FeatureCollection('ft:1_REjFaRegZHbKMA4QBvKzfMBHtTS8MN0xt0mnVVl')\n",
    "VBo = ee.Image('users/dylanhatlas/TW_vw10m')\n",
    "VB = VBo.mask(VBo.neq(1))\n",
    "map1.addEarthEngineLayer(ee.Image(GRB.draw(color='00ff00',strokeWidth=1)),vis_params={},name='Green River Basin')\n",
    "map1.addEarthEngineLayer(image=VB,vis_params={'color':'ffffff'},name='VB')\n",
    "UT_counties = ee.Image(UT.draw(color= 'ff0000',strokeWidth=1))\n",
    "map1.addEarthEngineLayer(image=UT_counties,vis_params={})\n",
    "display(map1)"
   ]
  },
  {
   "cell_type": "code",
   "execution_count": 536,
   "metadata": {
    "collapsed": false
   },
   "outputs": [],
   "source": [
    "elev = ee.Image('USGS/NED');\n",
    "tpi540 = elev.subtract(elev.reduceNeighborhood(ee.Reducer.mean(), ee.Kernel.circle(540, \"meters\")));\n",
    "#map1.addEarthEngineLayer(tpi540, vis_params={'min':-200, 'max': 200,'palette':'0000ff,00ff00'}, name='tpi540', visible=True);"
   ]
  },
  {
   "cell_type": "code",
   "execution_count": 552,
   "metadata": {
    "collapsed": false
   },
   "outputs": [],
   "source": [
    "#bring in NAIP imagery for GRB extent\n",
    "naip_collection = (ee.ImageCollection(\"USDA/NAIP/DOQQ\")\n",
    "            .filterBounds(GRB)\n",
    "            .filterDate('2015-06-01', '2016-09-30')\n",
    "            .filter(ee.Filter.listContains(\"system:band_names\", \"N\")))\n",
    "\n",
    "naip_GRB = (ee.ImageCollection(\"USDA/NAIP/DOQQ\")\n",
    "            .filterBounds(GRB)\n",
    "            .filterDate('2015-06-01', '2016-09-30')\n",
    "            .filter(ee.Filter.listContains(\"system:band_names\", \"N\"))\n",
    "            .median().clip(GRB))\n",
    "\n",
    "\n",
    "#naip_GRB = (ee.ImageCollection(\"USDA/NAIP/DOQQ\")\n",
    "#            .filterBounds(GRB)\n",
    "#            .filterDate('2015-06-01', '2016-09-30')\n",
    "#            .filter(ee.Filter.listContains(\"system:band_names\", ['R', 'G', 'B', 'N']))\n",
    "#            .median().clip(GRB))\n",
    "\n",
    "#.filter(ee.Filter.listContains('bands', ['R', 'G', 'B', 'N']))\n",
    "#.filter(ee.Filter.listContains(\"system:band_names\", \"N\"))\n",
    "#            .select(['R','G','B','N'])\n",
    "def band_fx(img):\n",
    "    return img.set({'bands': img.bandNames()})\n",
    "\n",
    "#Apply bandName function and select images that have Near-Infrared band\n",
    "#collection = naip_GRB.map(band_fx).filter(ee.Filter.listContains('bands', 'N'))"
   ]
  },
  {
   "cell_type": "code",
   "execution_count": 539,
   "metadata": {
    "collapsed": false
   },
   "outputs": [],
   "source": [
    "#naip_GRB.getInfo()"
   ]
  },
  {
   "cell_type": "code",
   "execution_count": 540,
   "metadata": {
    "collapsed": true
   },
   "outputs": [],
   "source": [
    "ndvi_palette =  ('FFFFFF, CE7E45, DF923D, F1B555, FCD163, 99B718, 74A901, 66A000, 529400,3E8601, 207401, 056201, 004C00, 023B01, 012E01, 011D01, 011301')"
   ]
  },
  {
   "cell_type": "code",
   "execution_count": 541,
   "metadata": {
    "collapsed": false
   },
   "outputs": [],
   "source": [
    "map2 = GoogleMapsView(lng=-106.82526, lat=40.43565, zoom=16, height='500px', width='800px')\n",
    "map2.addEarthEngineLayer(naip_GRB,vis_params={})\n",
    "#display(map2)"
   ]
  },
  {
   "cell_type": "code",
   "execution_count": 606,
   "metadata": {
    "collapsed": false,
    "scrolled": false
   },
   "outputs": [
    {
     "data": {
      "text/plain": [
       "{'bands': [{'crs': 'EPSG:4326',\n",
       "   'crs_transform': [1.0, 0.0, 0.0, 0.0, 1.0, 0.0],\n",
       "   'data_type': {'precision': 'double', 'type': 'PixelType'},\n",
       "   'id': 'constant'}],\n",
       " 'type': 'Image'}"
      ]
     },
     "execution_count": 606,
     "metadata": {},
     "output_type": "execute_result"
    }
   ],
   "source": [
    "#naipNDVI = naip_GRB.normalizedDifference(['N', 'R']);\n",
    "\n",
    "def NDVI_fx(img):\n",
    "    outImage = img\n",
    "    OutImage = outImage.addBands(outImage.normalizedDifference(['N', 'R']).select([0],['nd']))\n",
    "    return OutImage\n",
    "\n",
    "naipNDVI2 = naip_collection.map(NDVI_fx).select('nd').mean()\n",
    "\n",
    "#Derive Texture, Note that in Python arguments must be keywords rather than dictionaries \n",
    "#e.g. reducer = ee.Reducer.stdDev() as opposed to reducer:ee.Reducer.stdDev\n",
    "texture = naipNDVI2.reduceNeighborhood(\n",
    "    reducer = ee.Reducer.stdDev(),\n",
    "    kernel = ee.Kernel.circle(5))\n",
    "\n",
    "def EVI_expression(image):\n",
    "    # L(Canopy background)\n",
    "    # C1,C2(Coefficients of aerosol resistance term)\n",
    "    # GainFactor(Gain or scaling factor)\n",
    "    gain_factor = ee.Image(2.5);\n",
    "    coefficient_1 = ee.Image(6);\n",
    "    coefficient_2 = ee.Image(7.5);\n",
    "    l = ee.Image(1);\n",
    "    nir = image.select(\"N\");\n",
    "    red = image.select(\"R\");\n",
    "    blue = image.select(\"B\");\n",
    "    evi = image.expression(\n",
    "        \"Gain_Factor*((NIR-RED)/(NIR+C1*RED-C2*BLUE+L))\",\n",
    "        {\n",
    "            \"Gain_Factor\":gain_factor,\n",
    "            \"NIR\":nir,\n",
    "            \"RED\":red,\n",
    "            \"C1\":coefficient_1,\n",
    "            \"C2\":coefficient_2,\n",
    "            \"BLUE\":blue,\n",
    "            \"L\":l\n",
    "        }\n",
    "    )\n",
    "    return evi\n",
    "#EVI = ee.ImageCollection(naip_GRB).map(EVI_fx)\n",
    "#EVI = naip_collection.map(EVI_fx).mean()  \n",
    "EVI = naip_collection.map(EVI_expression).mean()  \n",
    "EVI.getInfo()"
   ]
  },
  {
   "cell_type": "code",
   "execution_count": 574,
   "metadata": {
    "collapsed": false
   },
   "outputs": [
    {
     "data": {
      "text/plain": [
       "{'bands': [{'crs': 'EPSG:4326',\n",
       "   'crs_transform': [1.0, 0.0, 0.0, 0.0, 1.0, 0.0],\n",
       "   'data_type': {'max': 1.0,\n",
       "    'min': -1.0,\n",
       "    'precision': 'float',\n",
       "    'type': 'PixelType'},\n",
       "   'id': 'nd'}],\n",
       " 'type': 'Image'}"
      ]
     },
     "execution_count": 574,
     "metadata": {},
     "output_type": "execute_result"
    }
   ],
   "source": [
    "#naipNDVI2.getInfo()"
   ]
  },
  {
   "cell_type": "code",
   "execution_count": 598,
   "metadata": {
    "collapsed": false
   },
   "outputs": [],
   "source": [
    "map2.addEarthEngineLayer(EVI,vis_params={'min': -1, 'max': 1, 'palette': 'FFFFFF,FF0000'})\n",
    "display(map2)"
   ]
  },
  {
   "cell_type": "code",
   "execution_count": 607,
   "metadata": {
    "collapsed": false
   },
   "outputs": [],
   "source": [
    "nir = naip_GRB.select('N').unitScale(0, 1024).multiply(255).byte();\n",
    "neighborhood = ee.Kernel.circle(radius=5);\n",
    "glcm = nir.glcmTexture(size=2);\n",
    "contrast = glcm.select('N_var');"
   ]
  },
  {
   "cell_type": "code",
   "execution_count": 608,
   "metadata": {
    "collapsed": false
   },
   "outputs": [],
   "source": [
    "#excluding EVI i.e. \"constant\" for now\n",
    "inBands = [\"R\", \"G\", \"B\", \"N\", \"nd\",\"constant\",\"nd_stdDev\", \"N_var\"]\n",
    "predictors = naip_GRB.addBands(naipNDVI2, names=['nd']).addBands(EVI, names=['constant']).addBands(texture, names=['nd_stdDev']).addBands(contrast,names=['N_var'])\n",
    "#predictors=predictors.double()\n",
    "#predictors = naip.addBands(naipNDVI, names=['nd']).addBands(EVI, names=['constant']).addBands(texture, names=['nd_stdDev']).addBands(contrast,names=['N_var'])\n",
    "#predictors.getInfo()"
   ]
  },
  {
   "cell_type": "code",
   "execution_count": 609,
   "metadata": {
    "collapsed": false
   },
   "outputs": [],
   "source": [
    "RF_training = predictors.sampleRegions(RFsubsample, ['class'], 1, \"EPSG:4326\");\n",
    "RF_testing = predictors.sampleRegions(RFvalidation, ['class'], 1, \"EPSG:4326\");"
   ]
  },
  {
   "cell_type": "code",
   "execution_count": 610,
   "metadata": {
    "collapsed": false
   },
   "outputs": [],
   "source": [
    "RFclassifier = (ee.Classifier.randomForest(300, 3, 10, 0.5, True)\n",
    "                .train(RF_training, 'class', inBands))\n",
    "\n",
    "trainAccuracy = RFclassifier.confusionMatrix();\n",
    "#print('Resubstitution error matrix: ', trainAccuracy);\n",
    "#print('Training overall accuracy: ', trainAccuracy.accuracy());\n",
    "#print(trainAccuracy.accuracy())"
   ]
  },
  {
   "cell_type": "code",
   "execution_count": 611,
   "metadata": {
    "collapsed": false
   },
   "outputs": [],
   "source": [
    "#predictors.select(inBands).getInfo()\n",
    "RFclassified = predictors.select(inBands).classify(RFclassifier)\n",
    "veg = RFclassified.mask(VBo.eq(1).mask(RFclassified.eq(1)))"
   ]
  },
  {
   "cell_type": "code",
   "execution_count": 612,
   "metadata": {
    "collapsed": true
   },
   "outputs": [],
   "source": [
    "map3 = GoogleMapsView(lng=-106.82526, lat=40.43565, zoom=12, height='500px', width='800px')"
   ]
  },
  {
   "cell_type": "code",
   "execution_count": 613,
   "metadata": {
    "collapsed": false
   },
   "outputs": [],
   "source": [
    "map3.addEarthEngineLayer(veg,vis_params={'palette':'00cc00'})\n",
    "display(map3)"
   ]
  },
  {
   "cell_type": "code",
   "execution_count": null,
   "metadata": {
    "collapsed": true
   },
   "outputs": [],
   "source": [
    ""
   ]
  }
 ],
 "metadata": {
  "kernelspec": {
   "display_name": "Python 3",
   "language": "python",
   "name": "python3"
  },
  "language_info": {
   "codemirror_mode": {
    "name": "ipython",
    "version": 3.0
   },
   "file_extension": ".py",
   "mimetype": "text/x-python",
   "name": "python",
   "nbconvert_exporter": "python",
   "pygments_lexer": "ipython3",
   "version": "3.6.0"
  }
 },
 "nbformat": 4,
 "nbformat_minor": 0
}